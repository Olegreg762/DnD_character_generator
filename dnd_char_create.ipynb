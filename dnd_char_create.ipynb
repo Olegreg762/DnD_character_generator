{
 "cells": [
  {
   "cell_type": "code",
   "execution_count": 155,
   "metadata": {},
   "outputs": [],
   "source": [
    "import random\n",
    "\n",
    "def gen_ability_score():\n",
    "    rolls = [[random.randint(1, 6) for i in range(4)] for i in range(6)]\n",
    "    return [sum(sorted(r)[1:]) for r in rolls]"
   ]
  },
  {
   "cell_type": "code",
   "execution_count": 156,
   "metadata": {},
   "outputs": [
    {
     "data": {
      "text/plain": [
       "[17, 16, 13, 12, 12, 9]"
      ]
     },
     "execution_count": 156,
     "metadata": {},
     "output_type": "execute_result"
    }
   ],
   "source": [
    "ability_rolls = sorted(gen_ability_score(),reverse=True)\n",
    "ability_rolls"
   ]
  },
  {
   "cell_type": "code",
   "execution_count": 157,
   "metadata": {},
   "outputs": [],
   "source": [
    "def class_set():\n",
    "    class_choices = (\n",
    "        'Artificer', 'Barbarian', 'Bard', \n",
    "        'Cleric', 'Druid', 'Fighter', 'Monk', 'Paladin', \n",
    "        'Ranger', 'Rogue', 'Sorcerer', 'Warlock', 'Wizard'\n",
    "        )\n",
    "    class_pick = input(f'Choose a Class {sorted(class_choices)}').casefold()\n",
    "    while class_pick not in (choice.casefold() for choice in class_choices):\n",
    "        class_pick = input(f'Choose a Class {class_choices}').casefold()\n",
    "    return class_pick.upper()"
   ]
  },
  {
   "cell_type": "code",
   "execution_count": 158,
   "metadata": {},
   "outputs": [
    {
     "data": {
      "text/plain": [
       "'WIZARD'"
      ]
     },
     "execution_count": 158,
     "metadata": {},
     "output_type": "execute_result"
    }
   ],
   "source": [
    "class_choice = class_set()\n",
    "class_choice"
   ]
  },
  {
   "cell_type": "code",
   "execution_count": 159,
   "metadata": {},
   "outputs": [],
   "source": [
    "def set_subclass(class_choice):\n",
    "    subclass_list = {\n",
    "        'ARTIFICER': (\n",
    "                    'Alchemist', 'Artillerist', 'Battle Smith', 'Armorer'\n",
    "                    ),\n",
    "        'BARBARIAN': (\n",
    "                    'Berserker', 'Totem Warrior', 'Ancestral Guardian', 'Storm Herald', \n",
    "                    'Zealot', 'Beast', 'Wild Magic'\n",
    "                    ),\n",
    "        'BARD': (\n",
    "                'Lore', 'Valor', 'Glamour', 'Swords', 'Whispers', 'Eloquence', 'Creation'\n",
    "                ),\n",
    "        'CLERIC': (\n",
    "                'Knowledge', 'Life', 'light', 'Nature', 'Tempest', 'Trickery', 'War', \n",
    "                'Death', 'Arcana', 'Solidarity', 'Strength', 'Ambition', 'Zeal', 'Forge', \n",
    "                'Grave', 'Order', 'Peace', 'Twilight'\n",
    "                ),\n",
    "        'DRUID': (\n",
    "                'Land', 'Moon', 'Dreams', 'Shepherd', 'Spores', 'Stars', 'Wildfire'\n",
    "                ),\n",
    "\n",
    "        'FIGHTER': (\n",
    "                    'Champion', 'Battle Master', 'Eldritch Knight', 'Arcane Archer', \n",
    "                    'Cavalier', 'Samurai', 'Echo Knight', 'Psi Warrior', 'Rune Knight'\n",
    "                    ),\n",
    "        'MONK': (\n",
    "                'Open Hand', 'Four Elements', 'Long Death', 'Sun Soul', 'Drunker Master', \n",
    "                'Kensei', 'Mercy', 'Astral Self'\n",
    "                ),\n",
    "        'PALADIN': (\n",
    "                    'Devotion', 'Ancients', 'Vengeance', 'Oathbreaker', 'the Crown', 'Conquest', \n",
    "                    'Redemption', 'Glory', 'The Watchers'\n",
    "                    ),\n",
    "        'RANGER': (\n",
    "                    'Hunter', 'Beast Master', 'Gloom Stalker', 'Horizon Walker', 'Monster Slayer', \n",
    "                    'Fey Wanderer', 'Swarmkeeper'\n",
    "                    ),\n",
    "        'ROGUE': (\n",
    "                'Thief', 'Assassin', 'Arcane Trickster', 'Mastermind', 'Swashbuckler', 'Inquisitive', \n",
    "                'Scout', 'Phantom', 'Soulknife'\n",
    "                ),\n",
    "        'SORCERER': (\n",
    "                    'Draconic Bloodline', 'Wild Magic', 'Storm Sorcery', 'Pyromancer', 'Divine Soul', \n",
    "                    'Shadow Magic', 'Aberrant Mind', 'Clockwork Soul'\n",
    "                    ),\n",
    "        'WARLOCK': (\n",
    "                    'Archfey', 'Fiend', 'Great Old One', 'Undying', 'Celestial', 'Hexblade', \n",
    "                    'Fathomless', 'Genie'\n",
    "                    ),\n",
    "        'WIZARD': (\n",
    "                'Abjuration', 'Conjuration', 'Divination', 'Enchantment', 'Evocation', 'Illusion', \n",
    "                'Necromancy', 'Transmutation', 'Bladesinging', 'War Magic', 'Chronurgy Magic', \n",
    "                'Graviturgy Magic', 'Order of Scribes'\n",
    "                )\n",
    "        }\n",
    "\n",
    "    subclass_prefix =  {\n",
    "        'ARTIFICER': (''),\n",
    "        'BARBARIAN': ('Path of'),\n",
    "        'BARD': ('College of'),\n",
    "        'CLERIC': ('Domain of'),\n",
    "        'DRUID': ('Circle of'),\n",
    "        'FIGHTER': (''),\n",
    "        'MONK': ('Way of'),\n",
    "        'PALADIN': ('Oath of'),\n",
    "        'RANGER': (''),\n",
    "        'ROGUE': (''),\n",
    "        'SORCERER': (''),\n",
    "        'WARLOCK': ('The'),\n",
    "        'WIZARD': ('School of')\n",
    "        }\n",
    "      \n",
    "    subclass_pick = input(f'Choose a subclass {sorted(subclass_list[class_choice])}').casefold()\n",
    "    while subclass_pick not in (choice.casefold() for choice in subclass_list[class_choice]):\n",
    "        subclass_pick = input(f'Choose a subclass {sorted(subclass_list[class_choice])}').casefold()\n",
    "    return subclass_prefix[class_choice].upper() + ' ' + subclass_pick.upper()\n",
    "\n"
   ]
  },
  {
   "cell_type": "code",
   "execution_count": 160,
   "metadata": {},
   "outputs": [
    {
     "data": {
      "text/plain": [
       "'SCHOOL OF GRAVITURGY MAGIC'"
      ]
     },
     "execution_count": 160,
     "metadata": {},
     "output_type": "execute_result"
    }
   ],
   "source": [
    "sub_class = set_subclass(class_choice)\n",
    "sub_class"
   ]
  },
  {
   "cell_type": "code",
   "execution_count": 169,
   "metadata": {},
   "outputs": [],
   "source": [
    "def set_ability_scores(class_choice,ability_rolls):\n",
    "    ability_positions = {            \n",
    "        'ARTIFICER': [5, 1, 3, 0, 2, 4],\n",
    "\n",
    "        'BARBARIAN': [0, 2, 1, 5, 4, 3],\n",
    "\n",
    "        'BARD': [4 , 1, 2, 3, 5, 0],\n",
    "\n",
    "        'CLERIC': [3, 2, 1, 5, 0, 4],\n",
    "\n",
    "        'DRUID': [4, 1, 2, 5, 0, 3],\n",
    "\n",
    "        'FIGHTER': [1, 0, 2, 5, 4, 3],\n",
    "\n",
    "        'MONK': [4, 0, 1, 5, 2, 3],\n",
    "\n",
    "        'PALADIN': [3, 0, 1, 5, 4, 2],\n",
    "\n",
    "        'RANGER': [3, 0, 1, 5, 2, 4],\n",
    "        \n",
    "        'ROGUE': [3, 0, 1, 2, 5, 4],\n",
    "        \n",
    "        'SORCERER': [5, 1, 2, 3, 4, 0],\n",
    "\n",
    "        'WARLOCK': [5, 1, 2, 3, 4, 0],\n",
    "\n",
    "        'WIZARD': [5, 1, 2, 0, 3, 4]\n",
    "    }\n",
    "    ability_names = ['strength', 'dexterity', 'constitution', 'intelligence', 'wisdom', 'charisma']\n",
    "    ability_values = [ability_rolls[i] for i in ability_positions[class_choice]]\n",
    "    abilities = dict(zip(ability_names, ability_values))\n",
    "    return abilities\n",
    "\n",
    "\n"
   ]
  },
  {
   "cell_type": "code",
   "execution_count": 162,
   "metadata": {},
   "outputs": [
    {
     "data": {
      "text/plain": [
       "{'strength': 6,\n",
       " 'dexterity': 12,\n",
       " 'constitution': 12,\n",
       " 'intelligence': 14,\n",
       " 'wisdom': 10,\n",
       " 'charisma': 8}"
      ]
     },
     "execution_count": 162,
     "metadata": {},
     "output_type": "execute_result"
    }
   ],
   "source": [
    "ability_scores = set_ability_scores(class_choice,ability_rolls)\n",
    "ability_scores"
   ]
  },
  {
   "cell_type": "code",
   "execution_count": 163,
   "metadata": {},
   "outputs": [],
   "source": [
    "def set_race():\n",
    "    race_choices = (\n",
    "        'Aarakocra', 'Aasimar', 'Air Genasi', 'Bugbear', 'Centaur', \n",
    "        'Changeling', 'Deep Gnome', 'Dragonborn', 'Drow', 'Duergar', 'Dwarf',\n",
    "        'Earth Genasi', 'Eladrin', 'Fairy', 'Firbolg', 'Fire Genasi', 'Forest Gnome', \n",
    "        'Githyanki', 'Githzerai', 'Goblin', 'Goliath', 'Half-Elf', 'Half-Orc', 'Halfing', \n",
    "        'Harengon', 'High Elf', 'Hobogoblin', 'Human', 'Kenku', 'Kobold', 'Lizardfolk', \n",
    "        'Minotaur', 'Orc', 'Rock Gnome', 'Satyr', 'Sea Elf', 'Shifter', 'Tabaxi', 'Tiefling', \n",
    "        'Tortle', 'Triton', 'Water Genasi', 'Wood Elf', 'Yuan-Ti'\n",
    " )\n",
    "    race_pick = input(f'Choose a Class {sorted(race_choices)}').casefold()\n",
    "    while race_pick not in (choice.casefold() for choice in race_choices):\n",
    "        race_pick = input(f'Choose a Class {race_choices}').casefold()\n",
    "    return race_pick.upper()"
   ]
  },
  {
   "cell_type": "code",
   "execution_count": 164,
   "metadata": {},
   "outputs": [
    {
     "data": {
      "text/plain": [
       "'HIGH ELF'"
      ]
     },
     "execution_count": 164,
     "metadata": {},
     "output_type": "execute_result"
    }
   ],
   "source": [
    "race = set_race()\n",
    "race"
   ]
  },
  {
   "cell_type": "code",
   "execution_count": null,
   "metadata": {},
   "outputs": [],
   "source": [
    "def set_race_ability_scores(race, ability_scores):\n",
    "    race_ability_mods ={\n",
    "        'Aarakocra':[], \n",
    "        'Aasimar':[], \n",
    "        'Air Genasi':[], \n",
    "        'Bugbear':[], \n",
    "        'Centaur':[], \n",
    "        'Changeling':[], \n",
    "        'Deep Gnome':[], \n",
    "        'Dragonborn':[], \n",
    "        'Drow':[], \n",
    "        'Duergar':[], \n",
    "        'Dwarf':[],\n",
    "        'Earth Genasi':[], \n",
    "        'Eladrin':[], \n",
    "        'Fairy':[], \n",
    "        'Firbolg':[], \n",
    "        'Fire Genasi':[], \n",
    "        'Forest Gnome':[], \n",
    "        'Githyanki':[], \n",
    "        'Githzerai':[], \n",
    "        'Goblin':[], \n",
    "        'Goliath':[], \n",
    "        'Half-Elf':[], \n",
    "        'Half-Orc':[], \n",
    "        'Halfing':[], \n",
    "        'Harengon':[], \n",
    "        'High Elf':[], \n",
    "        'Hobogoblin':[], \n",
    "        'Human':[], \n",
    "        'Kenku':[], \n",
    "        'Kobold':[], \n",
    "        'Lizardfolk':[], \n",
    "        'Minotaur':[], \n",
    "        'Orc':[], \n",
    "        'Rock Gnome':[], \n",
    "        'Satyr':[], \n",
    "        'Sea Elf':[], \n",
    "        'Shifter':[], \n",
    "        'Tabaxi':[], \n",
    "        'Tiefling':[], \n",
    "        'Tortle':[], \n",
    "        'Triton':[], \n",
    "        'Water Genasi':[], \n",
    "        'Wood Elf':[], \n",
    "        'Yuan-Ti':[],\n",
    "        \n",
    "    }"
   ]
  },
  {
   "cell_type": "code",
   "execution_count": 168,
   "metadata": {},
   "outputs": [
    {
     "name": "stdout",
     "output_type": "stream",
     "text": [
      "HIGH ELF\n",
      "WIZARD\n",
      "SCHOOL OF GRAVITURGY MAGIC\n",
      "{'strength': 6, 'dexterity': 12, 'constitution': 12, 'intelligence': 14, 'wisdom': 10, 'charisma': 8}\n"
     ]
    }
   ],
   "source": [
    "print(race)\n",
    "print(class_choice)\n",
    "print(sub_class)\n",
    "print(ability_scores)"
   ]
  }
 ],
 "metadata": {
  "kernelspec": {
   "display_name": "dev",
   "language": "python",
   "name": "dev"
  },
  "language_info": {
   "codemirror_mode": {
    "name": "ipython",
    "version": 3
   },
   "file_extension": ".py",
   "mimetype": "text/x-python",
   "name": "python",
   "nbconvert_exporter": "python",
   "pygments_lexer": "ipython3",
   "version": "3.7.13"
  },
  "orig_nbformat": 4
 },
 "nbformat": 4,
 "nbformat_minor": 2
}
