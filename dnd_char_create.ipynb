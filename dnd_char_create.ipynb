{
 "cells": [
  {
   "cell_type": "code",
   "execution_count": 37,
   "metadata": {},
   "outputs": [],
   "source": [
    "import random\n",
    "\n",
    "def gen_ability_score():\n",
    "    rolls = [[random.randint(1, 6) for i in range(4)] for i in range(6)]\n",
    "    return [sum(sorted(r)[1:]) for r in rolls]"
   ]
  },
  {
   "cell_type": "code",
   "execution_count": 38,
   "metadata": {},
   "outputs": [
    {
     "data": {
      "text/plain": [
       "[14, 12, 12, 10, 8, 6]"
      ]
     },
     "execution_count": 38,
     "metadata": {},
     "output_type": "execute_result"
    }
   ],
   "source": [
    "ability_score = sorted(gen_ability_score(),reverse=True)\n",
    "ability_score"
   ]
  },
  {
   "cell_type": "code",
   "execution_count": 39,
   "metadata": {},
   "outputs": [],
   "source": [
    "def class_set():\n",
    "    class_choices = ('Barbarian', 'Artificer', 'Bard', 'Cleric', 'Druid', 'Fighter', 'Monk', 'Paladin', 'Ranger', 'Rogue', 'Sorcerer', 'Warlock', 'Wizard')\n",
    "    class_pick = input(f'Choose a Class {sorted(class_choices)}').casefold()\n",
    "    while class_pick not in (choice.casefold() for choice in class_choices):\n",
    "        class_pick = input(f'Choose a Class {class_choices}').casefold()\n",
    "    return class_pick.upper()"
   ]
  },
  {
   "cell_type": "code",
   "execution_count": 115,
   "metadata": {},
   "outputs": [
    {
     "data": {
      "text/plain": [
       "'BARBARIAN'"
      ]
     },
     "execution_count": 115,
     "metadata": {},
     "output_type": "execute_result"
    }
   ],
   "source": [
    "class_choice = class_set()\n",
    "class_choice"
   ]
  },
  {
   "cell_type": "code",
   "execution_count": 41,
   "metadata": {},
   "outputs": [],
   "source": [
    "def set_subclass(class_choice):\n",
    "    subclass_list = {\n",
    "        'ARTIFICER': ('Alchemist', 'Artillerist', 'Battle Smith', 'Armorer'),\n",
    "        'BARBARIAN': ('Berserker', 'Totem Warrior', 'Ancestral Guardian', 'Storm Herald', 'Zealot', 'Beast', 'Wild Magic'),\n",
    "        'BARD': ('Lore', 'Valor', 'Glamour', 'Swords', 'Whispers', 'Eloquence', 'Creation'),\n",
    "        'CLERIC': ('Knowledge', 'Life', 'light', 'Nature', 'Tempest', 'Trickery', 'War', 'Death', 'Arcana', 'Solidarity', 'Strength', 'Ambition', 'Zeal', 'Forge', 'Grave', 'Order', 'Peace', 'Twilight'),\n",
    "        'DRUID': ('Land', 'Moon', 'Dreams', 'Shepherd', 'Spores', 'Stars', 'Wildfire'),\n",
    "        'FIGHTER': ('Champion', 'Battle Master', 'Eldritch Knight', 'Arcane Archer', 'Cavalier', 'Samurai', 'Echo Knight', 'Psi Warrior', 'Rune Knight'),\n",
    "        'MONK': ('Open Hand', 'Four Elements', 'Long Death', 'Sun Soul', 'Drunker Master', 'Kensei', 'Mercy', 'Astral Self'),\n",
    "        'PALADIN': ('Devotion', 'Ancients', 'Vengeance', 'Oathbreaker', 'the Crown', 'Conquest', 'Redemption', 'Glory', 'the Watchers'),\n",
    "        'RANGER': ('Hunter', 'Beast Master', 'Gloom Stalker', 'Horizon Walker', 'Monster Slayer', 'Fey Wanderer', 'Swarmkeeper'),\n",
    "        'ROGUE': ('Thief', 'Assassin', 'Arcane Trickster', 'Mastermind', 'Swashbuckler', 'Inquisitive', 'Scout', 'Phantom', 'Soulknife'),\n",
    "        'SORCERER': ('Draconic Bloodline', 'Wild Magic', 'Storm Sorcery', 'Pyromancer', 'Divine Soul', 'Shadow Magic', 'Aberrant Mind', 'Clockwork Soul'),\n",
    "        'WARLOCK': ('Archfey', 'Fiend', 'Great Old One', 'Undying', 'Celestial', 'Hexblade', 'Fathomless', 'Genie'),\n",
    "        'WIZARD': ('Abjuration', 'Conjuration', 'Divination', 'Enchantment', 'Evocation', 'Illusion', 'Necromancy', 'Transmutation', 'Bladesinging', 'War Magic', 'Chronurgy Magic', 'Graviturgy Magic', 'Order of Scribes')\n",
    "        }\n",
    "\n",
    "    subclass_prefix =  {\n",
    "        'ARTIFICER': (''),\n",
    "        'BARBARIAN': ('Path of'),\n",
    "        'BARD': ('College of'),\n",
    "        'CLERIC': ('Domain of'),\n",
    "        'DRUID': ('Circle of'),\n",
    "        'FIGHTER': (''),\n",
    "        'MONK': ('Way of'),\n",
    "        'PALADIN': ('Oath of'),\n",
    "        'RANGER': (''),\n",
    "        'ROGUE': (''),\n",
    "        'SORCERER': (''),\n",
    "        'WARLOCK': ('The'),\n",
    "        'WIZARD': ('School of')\n",
    "        }\n",
    "      \n",
    "    subclass_pick = input(f'Choose a subclass {sorted(subclass_list[class_choice])}').casefold()\n",
    "    while subclass_pick not in (choice.casefold() for choice in subclass_list[class_choice]):\n",
    "        subclass_pick = input(f'Choose a subclass {sorted(subclass_list[class_choice])}').casefold()\n",
    "    return subclass_prefix[class_choice].upper() + ' ' + subclass_pick.upper()\n",
    "\n"
   ]
  },
  {
   "cell_type": "code",
   "execution_count": 116,
   "metadata": {},
   "outputs": [
    {
     "data": {
      "text/plain": [
       "'PATH OF BERSERKER'"
      ]
     },
     "execution_count": 116,
     "metadata": {},
     "output_type": "execute_result"
    }
   ],
   "source": [
    "sub_class = set_subclass(class_choice)\n",
    "sub_class"
   ]
  },
  {
   "cell_type": "code",
   "execution_count": 117,
   "metadata": {},
   "outputs": [],
   "source": [
    "def assign_ability_scores(class_choice,ability_score):\n",
    "    ability_positions = {\n",
    "        'ARTIFICER': [5, 1, 3, 0, 2, 4],\n",
    "\n",
    "        'BARBARIAN': [0, 2, 1, 5, 4, 3],\n",
    "\n",
    "        'BARD': [4 , 1, 2, 3, 5, 0],\n",
    "\n",
    "        'CLERIC': [3, 2, 1, 5, 0, 4],\n",
    "\n",
    "        'DRUID': [4, 1, 2, 5, 0, 3],\n",
    "\n",
    "        'FIGHTER': [1, 0, 2, 5, 4, 3],\n",
    "\n",
    "        'MONK': [4, 0, 1, 5, 2, 3],\n",
    "\n",
    "        'PALADIN': [3, 0, 1, 5, 4, 2],\n",
    "\n",
    "        'RANGER': [3, 0, 1, 5, 2, 4],\n",
    "        \n",
    "        'ROGUE': [3, 0, 1, 2, 5, 4],\n",
    "        \n",
    "        'SORCERER': [5, 1, 2, 3, 4, 0],\n",
    "\n",
    "        'WARLOCK': [5, 1, 2, 3, 4, 0],\n",
    "\n",
    "        'WIZARD': [5, 1, 2, 0, 3, 4]\n",
    "        # add more classes and their ability positions here\n",
    "    }\n",
    "    ability_names = ['strength', 'dexterity', 'constitution', 'intelligence', 'wisdom', 'charisma']\n",
    "    ability_values = [ability_score[i] for i in ability_positions[class_choice]]\n",
    "    abilities = dict(zip(ability_names, ability_values))\n",
    "    return abilities\n",
    "\n",
    "\n"
   ]
  },
  {
   "cell_type": "code",
   "execution_count": 118,
   "metadata": {},
   "outputs": [
    {
     "data": {
      "text/plain": [
       "{'strength': 14,\n",
       " 'dexterity': 12,\n",
       " 'constitution': 12,\n",
       " 'intelligence': 6,\n",
       " 'wisdom': 8,\n",
       " 'charisma': 10}"
      ]
     },
     "execution_count": 118,
     "metadata": {},
     "output_type": "execute_result"
    }
   ],
   "source": [
    "ability_score_assignments = assign_ability_scores(class_choice,ability_score)\n",
    "ability_score_assignments"
   ]
  },
  {
   "cell_type": "code",
   "execution_count": 130,
   "metadata": {},
   "outputs": [
    {
     "data": {
      "text/plain": [
       "(16, 13)"
      ]
     },
     "execution_count": 130,
     "metadata": {},
     "output_type": "execute_result"
    }
   ],
   "source": [
    "ability_score_assignments['strength']+2,ability_score_assignments['dexterity']+1"
   ]
  },
  {
   "cell_type": "code",
   "execution_count": null,
   "metadata": {},
   "outputs": [],
   "source": [
    "def set_race():\n",
    "    race_choices = ('Dragonborn', 'Drow', 'Dwarf', 'Elf', 'Forest Gnome', 'Half-Elf', 'Half-Orc', 'Halfing', 'High Elf', 'Human', 'Rock Gnome', 'Tiefling', 'Wood Elf')\n",
    "    race_pick = input(f'Choose a Class {sorted(race_choices)}').casefold()\n",
    "    while race_pick not in (choice.casefold() for choice in race_choices):\n",
    "        race_pick = input(f'Choose a Class {race_choices}').casefold()\n",
    "    return race_pick.upper()"
   ]
  }
 ],
 "metadata": {
  "kernelspec": {
   "display_name": "dev",
   "language": "python",
   "name": "dev"
  },
  "language_info": {
   "codemirror_mode": {
    "name": "ipython",
    "version": 3
   },
   "file_extension": ".py",
   "mimetype": "text/x-python",
   "name": "python",
   "nbconvert_exporter": "python",
   "pygments_lexer": "ipython3",
   "version": "3.7.13"
  },
  "orig_nbformat": 4
 },
 "nbformat": 4,
 "nbformat_minor": 2
}
