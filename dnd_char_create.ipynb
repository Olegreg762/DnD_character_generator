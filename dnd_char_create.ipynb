{
 "cells": [
  {
   "cell_type": "code",
   "execution_count": 138,
   "metadata": {},
   "outputs": [],
   "source": [
    "from numpy import random\n",
    "\n",
    "def gen_ability_score():\n",
    "    rolls = [[random.randint(1, 6) for _ in range(4)] for _ in range(6)]\n",
    "    return [sum(sorted(r)[1:]) for r in rolls]"
   ]
  },
  {
   "cell_type": "code",
   "execution_count": 6,
   "metadata": {},
   "outputs": [],
   "source": [
    "def class_set():\n",
    "    class_choices = ('Barbarian', 'Artificer', 'Bard', 'Cleric', 'Druid', 'Fighter', 'Monk', 'Paladin', 'Ranger', 'Rogue', 'Sorcerer', 'Warlock', 'Wizard')\n",
    "    class_pick = input(f'Choose a Class {sorted(class_choices)}').casefold()\n",
    "    while class_pick not in (choice.casefold() for choice in class_choices):\n",
    "        class_pick = input(f'Choose a Class {class_choices}').casefold()\n",
    "    return class_pick.upper()"
   ]
  },
  {
   "cell_type": "code",
   "execution_count": 169,
   "metadata": {},
   "outputs": [
    {
     "data": {
      "text/plain": [
       "[14, 13, 11, 9, 8, 4]"
      ]
     },
     "execution_count": 169,
     "metadata": {},
     "output_type": "execute_result"
    }
   ],
   "source": [
    "ability_score = sorted(gen_ability_score(),reverse=True)\n",
    "ability_score"
   ]
  },
  {
   "cell_type": "code",
   "execution_count": 8,
   "metadata": {},
   "outputs": [
    {
     "data": {
      "text/plain": [
       "'ARTIFICER'"
      ]
     },
     "execution_count": 8,
     "metadata": {},
     "output_type": "execute_result"
    }
   ],
   "source": [
    "class_choice = class_set()\n",
    "class_choice"
   ]
  },
  {
   "cell_type": "code",
   "execution_count": 13,
   "metadata": {},
   "outputs": [],
   "source": [
    "def set_subclass(class_choice):\n",
    "    subclass_choices = {\n",
    "        'ARTIFICER': ('Alchemist', 'Artillerist', 'Battle Smith', 'Armorer'),\n",
    "        'BARBARIAN': ('Berserker', 'Totem Warrior', 'Ancestral Guardian', 'Storm Herald', 'Zealot', 'Beast', 'Wild Magic'),\n",
    "        'BARD': ('Lore', 'Valor', 'Glamour', 'Swords', 'Whispers', 'Eloquence', 'Creation'),\n",
    "        'CLERIC': ('Knowledge', 'Life', 'light', 'Nature', 'Tempest', 'Trickery', 'War', 'Death', 'Arcana', 'Solidarity', 'Strength', 'Ambition', 'Zeal', 'Forge', 'Grave', 'Order', 'Peace', 'Twilight'),\n",
    "        'DRUID': ('Land', 'Moon', 'Dreams', 'Shepherd', 'Spores', 'Stars', 'Wildfire'),\n",
    "        'FIGHTER': ('Champion', 'Battle Master', 'Eldritch Knight', 'Arcane Archer', 'Cavalier', 'Samurai', 'Echo Knight', 'Psi Warrior', 'Rune Knight'),\n",
    "        'MONK': ('Open Hand', 'Four Elements', 'Long Death', 'Sun Soul', 'Drunker Master', 'Kensei', 'Mercy', 'Astral Self'),\n",
    "        'PALADIN': ('Devotion', 'Ancients', 'Vengeance', 'Oathbreaker', 'the Crown', 'Conquest', 'Redemption', 'Glory', 'the Watchers'),\n",
    "        'RANGER': (''),\n",
    "        'ROGUE': (''),\n",
    "        'SORCERER': (''),\n",
    "        'WARLOCK': (''),\n",
    "        'WIZARD': ('')\n",
    "        }\n",
    "    subclass_pick = ''\n",
    "\n",
    "    subclass_identifier =  {\n",
    "        'ARTIFICER': (''),\n",
    "        'BARBARIAN': ('Path of'),\n",
    "        'BARD': ('College of'),\n",
    "        'CLERIC': ('Domain of'),\n",
    "        'DRUID': ('Circle of'),\n",
    "        'FIGHTER': (''),\n",
    "        'MONK': ('Way of'),\n",
    "        'PALADIN': ('Oath of'),\n",
    "        'RANGER': (''),\n",
    "        'ROGUE': (''),\n",
    "        'SORCERER': (''),\n",
    "        'WARLOCK': ('The'),\n",
    "        'WIZARD': ('School of')\n",
    "        }\n",
    "    while subclass_pick.casefold() not in [choice.casefold() for choice in subclass_choices[class_choice]]:\n",
    "        subclass_pick = input(f\"Choose a subclass from {sorted(subclass_choices[class_choice])}: \").strip().title()\n",
    "    return subclass_pick.upper()\n"
   ]
  },
  {
   "cell_type": "code",
   "execution_count": 14,
   "metadata": {},
   "outputs": [
    {
     "data": {
      "text/plain": [
       "'ARMORER'"
      ]
     },
     "execution_count": 14,
     "metadata": {},
     "output_type": "execute_result"
    }
   ],
   "source": [
    "set_subclass(class_choice)"
   ]
  }
 ],
 "metadata": {
  "kernelspec": {
   "display_name": "dev",
   "language": "python",
   "name": "dev"
  },
  "language_info": {
   "codemirror_mode": {
    "name": "ipython",
    "version": 3
   },
   "file_extension": ".py",
   "mimetype": "text/x-python",
   "name": "python",
   "nbconvert_exporter": "python",
   "pygments_lexer": "ipython3",
   "version": "3.7.13"
  },
  "orig_nbformat": 4
 },
 "nbformat": 4,
 "nbformat_minor": 2
}
