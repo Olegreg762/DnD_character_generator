{
 "cells": [
  {
   "cell_type": "code",
   "execution_count": 15,
   "metadata": {},
   "outputs": [],
   "source": [
    "from numpy import random\n",
    "\n",
    "def gen_ability_score():\n",
    "    rolls = [[random.randint(1, 6) for _ in range(4)] for _ in range(6)]\n",
    "    return [sum(sorted(r)[1:]) for r in rolls]"
   ]
  },
  {
   "cell_type": "code",
   "execution_count": 16,
   "metadata": {},
   "outputs": [],
   "source": [
    "def class_set():\n",
    "    class_choices = ('Barbarian', 'Artificer', 'Bard', 'Cleric', 'Druid', 'Fighter', 'Monk', 'Paladin', 'Ranger', 'Rogue', 'Sorcerer', 'Warlock', 'Wizard')\n",
    "    class_pick = input(f'Choose a Class {sorted(class_choices)}').casefold()\n",
    "    while class_pick not in (choice.casefold() for choice in class_choices):\n",
    "        class_pick = input(f'Choose a Class {class_choices}').casefold()\n",
    "    return class_pick.upper()"
   ]
  },
  {
   "cell_type": "code",
   "execution_count": 17,
   "metadata": {},
   "outputs": [
    {
     "data": {
      "text/plain": [
       "[15, 13, 12, 12, 6, 5]"
      ]
     },
     "execution_count": 17,
     "metadata": {},
     "output_type": "execute_result"
    }
   ],
   "source": [
    "ability_score = sorted(gen_ability_score(),reverse=True)\n",
    "ability_score"
   ]
  },
  {
   "cell_type": "code",
   "execution_count": 21,
   "metadata": {},
   "outputs": [
    {
     "data": {
      "text/plain": [
       "'WIZARD'"
      ]
     },
     "execution_count": 21,
     "metadata": {},
     "output_type": "execute_result"
    }
   ],
   "source": [
    "class_choice = class_set()\n",
    "class_choice"
   ]
  },
  {
   "cell_type": "code",
   "execution_count": 40,
   "metadata": {},
   "outputs": [],
   "source": [
    "def set_subclass(class_choice):\n",
    "    subclass_list = {\n",
    "        'ARTIFICER': ('Alchemist', 'Artillerist', 'Battle Smith', 'Armorer'),\n",
    "        'BARBARIAN': ('Berserker', 'Totem Warrior', 'Ancestral Guardian', 'Storm Herald', 'Zealot', 'Beast', 'Wild Magic'),\n",
    "        'BARD': ('Lore', 'Valor', 'Glamour', 'Swords', 'Whispers', 'Eloquence', 'Creation'),\n",
    "        'CLERIC': ('Knowledge', 'Life', 'light', 'Nature', 'Tempest', 'Trickery', 'War', 'Death', 'Arcana', 'Solidarity', 'Strength', 'Ambition', 'Zeal', 'Forge', 'Grave', 'Order', 'Peace', 'Twilight'),\n",
    "        'DRUID': ('Land', 'Moon', 'Dreams', 'Shepherd', 'Spores', 'Stars', 'Wildfire'),\n",
    "        'FIGHTER': ('Champion', 'Battle Master', 'Eldritch Knight', 'Arcane Archer', 'Cavalier', 'Samurai', 'Echo Knight', 'Psi Warrior', 'Rune Knight'),\n",
    "        'MONK': ('Open Hand', 'Four Elements', 'Long Death', 'Sun Soul', 'Drunker Master', 'Kensei', 'Mercy', 'Astral Self'),\n",
    "        'PALADIN': ('Devotion', 'Ancients', 'Vengeance', 'Oathbreaker', 'the Crown', 'Conquest', 'Redemption', 'Glory', 'the Watchers'),\n",
    "        'RANGER': ('Hunter', 'Beast Master', 'Gloom Stalker', 'Horizon Walker', 'Monster Slayer', 'Fey Wanderer', 'Swarmkeeper'),\n",
    "        'ROGUE': ('Thief', 'Assassin', 'Arcane Trickster', 'Mastermind', 'Swashbuckler', 'Inquisitive', 'Scout', 'Phantom', 'Soulknife'),\n",
    "        'SORCERER': ('Draconic Bloodline', 'Wild Magic', 'Storm Sorcery', 'Pyromancer', 'Divine Soul', 'Shadow Magic', 'Aberrant Mind', 'Clockwork Soul'),\n",
    "        'WARLOCK': ('Archfey', 'Fiend', 'Great Old One', 'Undying', 'Celestial', 'Hexblade', 'Fathomless', 'Genie'),\n",
    "        'WIZARD': ('Abjuration', 'Conjuration', 'Divination', 'Enchantment', 'Evocation', 'Illusion', 'Necromancy', 'Transmutation', 'Bladesinging', 'War Magic', 'Chronurgy Magic', 'Graviturgy Magic', 'Order of Scribes')\n",
    "        }\n",
    "\n",
    "    subclass_prefix =  {\n",
    "        'ARTIFICER': (''),\n",
    "        'BARBARIAN': ('Path of'),\n",
    "        'BARD': ('College of'),\n",
    "        'CLERIC': ('Domain of'),\n",
    "        'DRUID': ('Circle of'),\n",
    "        'FIGHTER': (''),\n",
    "        'MONK': ('Way of'),\n",
    "        'PALADIN': ('Oath of'),\n",
    "        'RANGER': (''),\n",
    "        'ROGUE': (''),\n",
    "        'SORCERER': (''),\n",
    "        'WARLOCK': ('The'),\n",
    "        'WIZARD': ('School of')\n",
    "        }\n",
    "      \n",
    "    subclass_pick = input(f'Choose a subclass {sorted(subclass_list[class_choice])}').casefold()\n",
    "    while subclass_pick not in (choice.casefold() for choice in subclass_list[class_choice]):\n",
    "        subclass_pick = input(f'Choose a subclass {sorted(subclass_list[class_choice])}').casefold()\n",
    "    return subclass_prefix[class_choice].upper() + ' ' + subclass_pick.upper()\n",
    "\n"
   ]
  },
  {
   "cell_type": "code",
   "execution_count": 42,
   "metadata": {},
   "outputs": [
    {
     "data": {
      "text/plain": [
       "'SCHOOL OF WAR MAGIC'"
      ]
     },
     "execution_count": 42,
     "metadata": {},
     "output_type": "execute_result"
    }
   ],
   "source": [
    "sub_class = set_subclass(class_choice)\n",
    "sub_class"
   ]
  },
  {
   "cell_type": "code",
   "execution_count": null,
   "metadata": {},
   "outputs": [],
   "source": [
    "def set_race():\n",
    "    race_list= ( )"
   ]
  }
 ],
 "metadata": {
  "kernelspec": {
   "display_name": "dev",
   "language": "python",
   "name": "dev"
  },
  "language_info": {
   "codemirror_mode": {
    "name": "ipython",
    "version": 3
   },
   "file_extension": ".py",
   "mimetype": "text/x-python",
   "name": "python",
   "nbconvert_exporter": "python",
   "pygments_lexer": "ipython3",
   "version": "3.7.13"
  },
  "orig_nbformat": 4
 },
 "nbformat": 4,
 "nbformat_minor": 2
}
