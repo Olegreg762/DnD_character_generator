{
 "cells": [
  {
   "cell_type": "code",
   "execution_count": 7,
   "metadata": {},
   "outputs": [],
   "source": [
    "\n",
    "import dnd_char_gen\n",
    "#import streamlit\n",
    "\n"
   ]
  },
  {
   "cell_type": "code",
   "execution_count": 8,
   "metadata": {},
   "outputs": [],
   "source": [
    "import random\n",
    "\n",
    "def roll_ability_scores():\n",
    "    rolls = [[random.randint(1, 6) for i in range(4)] for i in range(6)]\n",
    "    return [sum(sorted(r)[1:]) for r in rolls]"
   ]
  },
  {
   "cell_type": "code",
   "execution_count": 9,
   "metadata": {},
   "outputs": [],
   "source": [
    "def set_name():\n",
    "    char_name_input = input('What is your name?')\n",
    "    return char_name_input"
   ]
  },
  {
   "cell_type": "code",
   "execution_count": 10,
   "metadata": {},
   "outputs": [
    {
     "data": {
      "text/plain": [
       "[17, 16, 14, 14, 10, 10]"
      ]
     },
     "execution_count": 10,
     "metadata": {},
     "output_type": "execute_result"
    }
   ],
   "source": [
    "ability_rolls = sorted(roll_ability_scores(),reverse=True)\n",
    "ability_rolls"
   ]
  },
  {
   "cell_type": "code",
   "execution_count": 11,
   "metadata": {},
   "outputs": [],
   "source": [
    "char_name = set_name()"
   ]
  },
  {
   "cell_type": "code",
   "execution_count": 12,
   "metadata": {},
   "outputs": [
    {
     "data": {
      "text/plain": [
       "'franz'"
      ]
     },
     "execution_count": 12,
     "metadata": {},
     "output_type": "execute_result"
    }
   ],
   "source": [
    "char_name"
   ]
  },
  {
   "cell_type": "code",
   "execution_count": 13,
   "metadata": {},
   "outputs": [],
   "source": [
    "def class_set():\n",
    "    class_choices = (\n",
    "        'Artificer', 'Barbarian', 'Bard', \n",
    "        'Cleric', 'Druid', 'Fighter', 'Monk', 'Paladin', \n",
    "        'Ranger', 'Rogue', 'Sorcerer', 'Warlock', 'Wizard'\n",
    "        )\n",
    "    class_pick = input(f'Choose a Class {sorted(class_choices)}').casefold()\n",
    "    while class_pick not in (choice.casefold() for choice in class_choices):\n",
    "        class_pick = input(f'Choose a Class {class_choices}').casefold()\n",
    "    return class_pick.upper()"
   ]
  },
  {
   "cell_type": "code",
   "execution_count": 14,
   "metadata": {},
   "outputs": [
    {
     "data": {
      "text/plain": [
       "'BARD'"
      ]
     },
     "execution_count": 14,
     "metadata": {},
     "output_type": "execute_result"
    }
   ],
   "source": [
    "class_choice = class_set()\n",
    "class_choice"
   ]
  },
  {
   "cell_type": "code",
   "execution_count": 15,
   "metadata": {},
   "outputs": [],
   "source": [
    "def set_subclass(class_choice):\n",
    "    subclass_list = {\n",
    "        'ARTIFICER': (\n",
    "                    'Alchemist', 'Artillerist', 'Battle Smith', 'Armorer'\n",
    "                    ),\n",
    "        'BARBARIAN': (\n",
    "                    'Berserker', 'Totem Warrior', 'Ancestral Guardian', 'Storm Herald', \n",
    "                    'Zealot', 'Beast', 'Wild Magic'\n",
    "                    ),\n",
    "        'BARD': (\n",
    "                'Lore', 'Valor', 'Glamour', 'Swords', 'Whispers', 'Eloquence', 'Creation'\n",
    "                ),\n",
    "        'CLERIC': (\n",
    "                'Knowledge', 'Life', 'light', 'Nature', 'Tempest', 'Trickery', 'War', \n",
    "                'Death', 'Arcana', 'Solidarity', 'Strength', 'Ambition', 'Zeal', 'Forge', \n",
    "                'Grave', 'Order', 'Peace', 'Twilight'\n",
    "                ),\n",
    "        'DRUID': (\n",
    "                'Land', 'Moon', 'Dreams', 'Shepherd', 'Spores', 'Stars', 'Wildfire'\n",
    "                ),\n",
    "\n",
    "        'FIGHTER': (\n",
    "                    'Champion', 'Battle Master', 'Eldritch Knight', 'Arcane Archer', \n",
    "                    'Cavalier', 'Samurai', 'Echo Knight', 'Psi Warrior', 'Rune Knight'\n",
    "                    ),\n",
    "        'MONK': (\n",
    "                'Open Hand', 'Four Elements', 'Long Death', 'Sun Soul', 'Drunker Master', \n",
    "                'Kensei', 'Mercy', 'Astral Self'\n",
    "                ),\n",
    "        'PALADIN': (\n",
    "                    'Devotion', 'Ancients', 'Vengeance', 'Oathbreaker', 'the Crown', 'Conquest', \n",
    "                    'Redemption', 'Glory', 'The Watchers'\n",
    "                    ),\n",
    "        'RANGER': (\n",
    "                    'Hunter', 'Beast Master', 'Gloom Stalker', 'Horizon Walker', 'Monster Slayer', \n",
    "                    'Fey Wanderer', 'Swarmkeeper'\n",
    "                    ),\n",
    "        'ROGUE': (\n",
    "                'Thief', 'Assassin', 'Arcane Trickster', 'Mastermind', 'Swashbuckler', 'Inquisitive', \n",
    "                'Scout', 'Phantom', 'Soulknife'\n",
    "                ),\n",
    "        'SORCERER': (\n",
    "                    'Draconic Bloodline', 'Wild Magic', 'Storm Sorcery', 'Pyromancer', 'Divine Soul', \n",
    "                    'Shadow Magic', 'Aberrant Mind', 'Clockwork Soul'\n",
    "                    ),\n",
    "        'WARLOCK': (\n",
    "                    'Archfey', 'Fiend', 'Great Old One', 'Undying', 'Celestial', 'Hexblade', \n",
    "                    'Fathomless', 'Genie'\n",
    "                    ),\n",
    "        'WIZARD': (\n",
    "                'Abjuration', 'Conjuration', 'Divination', 'Enchantment', 'Evocation', 'Illusion', \n",
    "                'Necromancy', 'Transmutation', 'Bladesinging', 'War Magic', 'Chronurgy Magic', \n",
    "                'Graviturgy Magic', 'Order of Scribes'\n",
    "                )\n",
    "        }\n",
    "\n",
    "    subclass_prefix =  {\n",
    "        'ARTIFICER': (''),\n",
    "        'BARBARIAN': ('Path of '),\n",
    "        'BARD': ('College of '),\n",
    "        'CLERIC': ('Domain of '),\n",
    "        'DRUID': ('Circle of '),\n",
    "        'FIGHTER': (''),\n",
    "        'MONK': ('Way of '),\n",
    "        'PALADIN': ('Oath of '),\n",
    "        'RANGER': (''),\n",
    "        'ROGUE': (''),\n",
    "        'SORCERER': (''),\n",
    "        'WARLOCK': ('The '),\n",
    "        'WIZARD': ('School of ')\n",
    "        }\n",
    "      \n",
    "    subclass_pick = input(f'Choose a subclass {sorted(subclass_list[class_choice])}').casefold()\n",
    "    while subclass_pick not in (choice.casefold() for choice in subclass_list[class_choice]):\n",
    "        subclass_pick = input(f'Choose a subclass {sorted(subclass_list[class_choice])}').casefold()\n",
    "    return subclass_prefix[class_choice].upper() + '' + subclass_pick.upper()\n",
    "\n"
   ]
  },
  {
   "cell_type": "code",
   "execution_count": 16,
   "metadata": {},
   "outputs": [
    {
     "data": {
      "text/plain": [
       "'COLLEGE OF LORE'"
      ]
     },
     "execution_count": 16,
     "metadata": {},
     "output_type": "execute_result"
    }
   ],
   "source": [
    "sub_class = set_subclass(class_choice)\n",
    "sub_class"
   ]
  },
  {
   "cell_type": "code",
   "execution_count": 17,
   "metadata": {},
   "outputs": [],
   "source": [
    "def set_ability_scores(class_choice,ability_rolls):\n",
    "    ability_positions = {            \n",
    "        'ARTIFICER': [5, 1, 3, 0, 2, 4],\n",
    "\n",
    "        'BARBARIAN': [0, 2, 1, 5, 4, 3],\n",
    "\n",
    "        'BARD': [4 , 1, 2, 3, 5, 0],\n",
    "\n",
    "        'CLERIC': [3, 2, 1, 5, 0, 4],\n",
    "\n",
    "        'DRUID': [4, 1, 2, 5, 0, 3],\n",
    "\n",
    "        'FIGHTER': [1, 0, 2, 5, 4, 3],\n",
    "\n",
    "        'MONK': [4, 0, 1, 5, 2, 3],\n",
    "\n",
    "        'PALADIN': [3, 0, 1, 5, 4, 2],\n",
    "\n",
    "        'RANGER': [3, 0, 1, 5, 2, 4],\n",
    "        \n",
    "        'ROGUE': [3, 0, 1, 2, 5, 4],\n",
    "        \n",
    "        'SORCERER': [5, 1, 2, 3, 4, 0],\n",
    "\n",
    "        'WARLOCK': [5, 1, 2, 3, 4, 0],\n",
    "\n",
    "        'WIZARD': [5, 1, 2, 0, 3, 4]\n",
    "    }\n",
    "    ability_names = ['strength', 'dexterity', 'constitution', 'intelligence', 'wisdom', 'charisma']\n",
    "    ability_values = [ability_rolls[i] for i in ability_positions[class_choice]]\n",
    "    abilities = dict(zip(ability_names, ability_values))\n",
    "\n",
    "    for i in range(3):\n",
    "\n",
    "        ability_choice = input(f'Choose an ability score you want to increase {ability_names}): ')\n",
    "        while ability_choice.lower() not in ability_names:\n",
    "            ability_choice = input(f'Invalid input. Choose an ability score you want to increase {ability_names}): ')\n",
    "\n",
    "        abilities[ability_choice.lower()] += 1\n",
    "\n",
    "    return abilities\n",
    "\n",
    "\n"
   ]
  },
  {
   "cell_type": "code",
   "execution_count": 18,
   "metadata": {},
   "outputs": [
    {
     "data": {
      "text/plain": [
       "{'strength': 10,\n",
       " 'dexterity': 17,\n",
       " 'constitution': 14,\n",
       " 'intelligence': 14,\n",
       " 'wisdom': 12,\n",
       " 'charisma': 17}"
      ]
     },
     "execution_count": 18,
     "metadata": {},
     "output_type": "execute_result"
    }
   ],
   "source": [
    "ability_scores = set_ability_scores(class_choice,ability_rolls)\n",
    "ability_scores"
   ]
  },
  {
   "cell_type": "code",
   "execution_count": 19,
   "metadata": {},
   "outputs": [],
   "source": [
    "def set_race():\n",
    "    race_choices = (\n",
    "        'Aarakocra', 'Aasimar', 'Air Genasi', 'Bugbear', 'Centaur', \n",
    "        'Changeling', 'Deep Gnome', 'Dragonborn', 'Drow', 'Duergar', 'Dwarf',\n",
    "        'Earth Genasi', 'Eladrin', 'Fairy', 'Firbolg', 'Fire Genasi', 'Forest Gnome', \n",
    "        'Githyanki', 'Githzerai', 'Goblin', 'Goliath', 'Half-Elf', 'Half-Orc', 'Halfing', \n",
    "        'Harengon', 'High Elf', 'Hobogoblin', 'Human', 'Kenku', 'Kobold', 'Lizardfolk', \n",
    "        'Minotaur', 'Orc', 'Rock Gnome', 'Satyr', 'Sea Elf', 'Shifter', 'Tabaxi', 'Tiefling', \n",
    "        'Tortle', 'Triton', 'Water Genasi', 'Wood Elf', 'Yuan-Ti'\n",
    " )\n",
    "    race_pick = input(f'Choose a Class {sorted(race_choices)}').casefold()\n",
    "    while race_pick not in (choice.casefold() for choice in race_choices):\n",
    "        race_pick = input(f'Choose a Class {race_choices}').casefold()\n",
    "    return race_pick.upper()"
   ]
  },
  {
   "cell_type": "code",
   "execution_count": 20,
   "metadata": {},
   "outputs": [
    {
     "data": {
      "text/plain": [
       "'DROW'"
      ]
     },
     "execution_count": 20,
     "metadata": {},
     "output_type": "execute_result"
    }
   ],
   "source": [
    "race = set_race()\n",
    "race"
   ]
  },
  {
   "cell_type": "code",
   "execution_count": 22,
   "metadata": {},
   "outputs": [
    {
     "name": "stdout",
     "output_type": "stream",
     "text": [
      "franz\n",
      "DROW\n",
      "BARD\n",
      "COLLEGE OF LORE\n",
      "{'strength': 10, 'dexterity': 17, 'constitution': 14, 'intelligence': 14, 'wisdom': 12, 'charisma': 17}\n"
     ]
    }
   ],
   "source": [
    "print(char_name)\n",
    "print(race)\n",
    "print(class_choice)\n",
    "print(sub_class)\n",
    "print(ability_scores)"
   ]
  }
 ],
 "metadata": {
  "kernelspec": {
   "display_name": "dev",
   "language": "python",
   "name": "dev"
  },
  "language_info": {
   "codemirror_mode": {
    "name": "ipython",
    "version": 3
   },
   "file_extension": ".py",
   "mimetype": "text/x-python",
   "name": "python",
   "nbconvert_exporter": "python",
   "pygments_lexer": "ipython3",
   "version": "3.7.13"
  },
  "orig_nbformat": 4
 },
 "nbformat": 4,
 "nbformat_minor": 2
}
